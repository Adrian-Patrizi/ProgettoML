{
  "nbformat": 4,
  "nbformat_minor": 0,
  "metadata": {
    "colab": {
      "provenance": [],
      "authorship_tag": "ABX9TyPeFV9Ww9mcr/j4VfnxeYlX",
      "include_colab_link": true
    },
    "kernelspec": {
      "name": "python3",
      "display_name": "Python 3"
    },
    "language_info": {
      "name": "python"
    }
  },
  "cells": [
    {
      "cell_type": "markdown",
      "metadata": {
        "id": "view-in-github",
        "colab_type": "text"
      },
      "source": [
        "<a href=\"https://colab.research.google.com/github/Adrian-Patrizi/ProgettoML/blob/main/Clip.ipynb\" target=\"_parent\"><img src=\"https://colab.research.google.com/assets/colab-badge.svg\" alt=\"Open In Colab\"/></a>"
      ]
    },
    {
      "cell_type": "code",
      "execution_count": 2,
      "metadata": {
        "colab": {
          "base_uri": "https://localhost:8080/"
        },
        "id": "Mfsc2squdX8h",
        "outputId": "3af26f6f-2816-4bf0-8a80-1cf2090401c2"
      },
      "outputs": [
        {
          "output_type": "stream",
          "name": "stdout",
          "text": [
            "Mounted at /content/drive\n"
          ]
        }
      ],
      "source": [
        "from google.colab import drive\n",
        "drive.mount('/content/drive')"
      ]
    },
    {
      "cell_type": "code",
      "source": [
        "import os\n",
        "import librosa\n",
        "import soundfile as sf\n",
        "from pathlib import Path\n",
        "import numpy as np\n",
        "from tqdm import tqdm"
      ],
      "metadata": {
        "id": "IrW7fI4IdaX8"
      },
      "execution_count": 3,
      "outputs": []
    },
    {
      "cell_type": "code",
      "source": [
        "#Percorsi\n",
        "MUSDB_PATH = \"/content/drive/MyDrive/Progetto ML/musdb18hq\"       # cartella con dataset originale\n",
        "CLIPS_PATH = \"/content/drive/MyDrive/Progetto ML/musdb18hq_clips\" # cartella dove salvare clip\n",
        "\n",
        "os.makedirs(CLIPS_PATH, exist_ok=True)\n",
        "\n",
        "#Parametri\n",
        "clip_duration = 10      # secondi\n",
        "clips_per_song = 10     # numero di clip per canzone\n",
        "sr = 44100              # frequenza di campionamento target\n",
        "mono = True             # converti in mono\n",
        "seed = 123              # riproducibilità\n",
        "np.random.seed(seed)"
      ],
      "metadata": {
        "id": "MhZuh51IdZ7Z"
      },
      "execution_count": 5,
      "outputs": []
    },
    {
      "cell_type": "code",
      "source": [
        "def create_clips(audio_path, out_dir, clip_duration=10, sr=44100, mono=True, clips_per_song=None, randomize=False):\n",
        "\n",
        "    # Carica mixture.wav\n",
        "    y, sr = librosa.load(audio_path, sr=sr, mono=mono)\n",
        "    total_duration = librosa.get_duration(y=y, sr=sr)\n",
        "    n_clips = int(total_duration // clip_duration)\n",
        "\n",
        "    # Selezione indice clip\n",
        "    indices = list(range(n_clips))\n",
        "    if clips_per_song is not None:\n",
        "        if randomize:\n",
        "            np.random.shuffle(indices)\n",
        "        indices = indices[:clips_per_song]\n",
        "\n",
        "    clips = []\n",
        "    #per ogni indice calcola start e end\n",
        "    for i in indices:\n",
        "        start = i * clip_duration * sr\n",
        "        end = (i+1) * clip_duration * sr\n",
        "        clip = y[int(start):int(end)]\n",
        "\n",
        "        # Normalizza tra -1 e 1 (+1e-9 evita divisioni per zero)\n",
        "        clip = clip / (np.max(np.abs(clip)) + 1e-9)\n",
        "\n",
        "        # Salvataggio file\n",
        "        # prende il nome della cartella della canzone\n",
        "        filename = Path(audio_path).parent.stem + f\"_clip{i}.wav\"\n",
        "        filepath = os.path.join(out_dir, filename)\n",
        "        sf.write(filepath, clip, sr)\n",
        "        clips.append(filepath)\n",
        "\n",
        "    return clips\n"
      ],
      "metadata": {
        "id": "-cHLigJfd7v2"
      },
      "execution_count": 6,
      "outputs": []
    },
    {
      "cell_type": "code",
      "source": [
        "train_clips, val_clips, test_clips = [], [], []\n",
        "\n",
        "train_dir = Path(MUSDB_PATH) / \"train\"\n",
        "test_dir = Path(MUSDB_PATH) / \"test\"\n",
        "\n",
        "# -- Training (1000 clip, 10 per ogni canzone in train)\n",
        "out_train = Path(CLIPS_PATH) / \"train\"\n",
        "out_train.mkdir(parents=True, exist_ok=True)\n",
        "\n",
        "all_train_files = list(train_dir.glob(\"*/mixture.wav\"))\n",
        "np.random.shuffle(all_train_files)\n",
        "\n",
        "for f in tqdm(all_train_files):\n",
        "    clips = create_clips(\n",
        "        f, out_train,\n",
        "        clip_duration=clip_duration,\n",
        "        sr=sr,\n",
        "        mono=mono,\n",
        "        clips_per_song=10,   # max 10 clip per canzone\n",
        "        randomize=False      # mettere True per ulteriore randomizzazione\n",
        "    )\n",
        "    train_clips.extend(clips)\n",
        "\n",
        "print(f\"Train set creato con {len(train_clips)} clip\")\n",
        "\n",
        "# -- Validation (200 clip, prese da 20 canzoni in test)\n",
        "out_val = Path(CLIPS_PATH) / \"val\"\n",
        "out_val.mkdir(parents=True, exist_ok=True)\n",
        "\n",
        "val_files = list(test_dir.glob(\"*/mixture.wav\"))\n",
        "np.random.shuffle(val_files)\n",
        "val_files = val_files[:20]  # 20 canzoni × 10 clip = 200\n",
        "\n",
        "for f in tqdm(val_files):\n",
        "    clips = create_clips(\n",
        "        f, out_val,\n",
        "        clip_duration=clip_duration,\n",
        "        sr=sr,\n",
        "        mono=mono,\n",
        "        clips_per_song=10,\n",
        "        randomize=False\n",
        "    )\n",
        "    val_clips.extend(clips)\n",
        "\n",
        "print(f\"Validation set creato con {len(val_clips)} clip\")\n",
        "\n",
        "# -- Test (200 clip, prese da altre 20 canzoni in test)\n",
        "out_test = Path(CLIPS_PATH) / \"test\"\n",
        "out_test.mkdir(parents=True, exist_ok=True)\n",
        "\n",
        "test_files = [f for f in test_dir.glob(\"*/mixture.wav\") if f not in val_files]\n",
        "np.random.shuffle(test_files)\n",
        "test_files = test_files[:20]  # altre 20 canzoni × 10 clip = 200\n",
        "\n",
        "for f in tqdm(test_files):\n",
        "    clips = create_clips(\n",
        "        f, out_test,\n",
        "        clip_duration=clip_duration,\n",
        "        sr=sr,\n",
        "        mono=mono,\n",
        "        clips_per_song=10,\n",
        "        randomize=False\n",
        "    )\n",
        "    test_clips.extend(clips)\n",
        "\n",
        "print(f\"Test set creato con {len(test_clips)} clip\")\n",
        "\n",
        "print(f\"Dataset finale: {len(train_clips)} train, {len(val_clips)} val, {len(test_clips)} test\")\n"
      ],
      "metadata": {
        "colab": {
          "base_uri": "https://localhost:8080/"
        },
        "id": "mKBxCHW5f0AC",
        "outputId": "333213c9-10b2-442d-9ef3-bc0e37fd9413"
      },
      "execution_count": 7,
      "outputs": [
        {
          "output_type": "stream",
          "name": "stderr",
          "text": [
            "100%|██████████| 100/100 [03:21<00:00,  2.01s/it]\n"
          ]
        },
        {
          "output_type": "stream",
          "name": "stdout",
          "text": [
            "Train set creato con 911 clip\n"
          ]
        },
        {
          "output_type": "stream",
          "name": "stderr",
          "text": [
            "100%|██████████| 20/20 [00:42<00:00,  2.13s/it]\n"
          ]
        },
        {
          "output_type": "stream",
          "name": "stdout",
          "text": [
            "Validation set creato con 200 clip\n"
          ]
        },
        {
          "output_type": "stream",
          "name": "stderr",
          "text": [
            "100%|██████████| 20/20 [00:39<00:00,  1.99s/it]"
          ]
        },
        {
          "output_type": "stream",
          "name": "stdout",
          "text": [
            "Test set creato con 200 clip\n",
            "Dataset finale: 911 train, 200 val, 200 test\n"
          ]
        },
        {
          "output_type": "stream",
          "name": "stderr",
          "text": [
            "\n"
          ]
        }
      ]
    }
  ]
}